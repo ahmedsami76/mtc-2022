{
 "cells": [
  {
   "cell_type": "markdown",
   "id": "24ad8271-ebe9-4de4-9c86-657f6e85dcde",
   "metadata": {},
   "source": [
    "## Import PySpark Library"
   ]
  },
  {
   "cell_type": "code",
   "execution_count": null,
   "id": "e44de104-407c-4edd-9586-ed147028b3ea",
   "metadata": {},
   "outputs": [],
   "source": [
    "import pyspark\n",
    "from pyspark import SparkContext, SparkConf\n",
    "from pyspark.sql import SparkSession\n"
   ]
  },
  {
   "cell_type": "markdown",
   "id": "254651cc-8544-4903-995b-bd0350fe99ed",
   "metadata": {
    "tags": []
   },
   "source": [
    "## Start Spark in local mode"
   ]
  },
  {
   "cell_type": "code",
   "execution_count": null,
   "id": "a88d0c68-4d7e-479d-9db4-fc0cac3abfff",
   "metadata": {},
   "outputs": [],
   "source": [
    "#conf = pyspark.SparkConf().setAppName('LearningSpark').setMaster(\"local\")\n",
    "#sc = pyspark.SparkContext(conf = conf)\n",
    "#spark = SparkSession(sc)"
   ]
  },
  {
   "cell_type": "code",
   "execution_count": null,
   "id": "b75a6e45-7d6e-481b-b147-505bdde20492",
   "metadata": {},
   "outputs": [],
   "source": [
    "#sc"
   ]
  },
  {
   "cell_type": "markdown",
   "id": "d8f1c181-1c60-4be4-a096-705637e7e1c6",
   "metadata": {},
   "source": [
    "## Start Spark in Standlone Cluster mode"
   ]
  },
  {
   "cell_type": "code",
   "execution_count": 3,
   "id": "d29190c1",
   "metadata": {},
   "outputs": [
    {
     "name": "stdout",
     "output_type": "stream",
     "text": [
      "localhost: stopping org.apache.spark.deploy.worker.Worker\r\n",
      "stopping org.apache.spark.deploy.master.Master\r\n"
     ]
    }
   ],
   "source": [
    "!/usr/local/spark/sbin/stop-all.sh"
   ]
  },
  {
   "cell_type": "code",
   "execution_count": 1,
   "id": "1dc5d685",
   "metadata": {},
   "outputs": [
    {
     "name": "stdout",
     "output_type": "stream",
     "text": [
      "starting org.apache.spark.deploy.master.Master, logging to /usr/local/spark/logs/spark--org.apache.spark.deploy.master.Master-1-sparkc.out\n",
      "localhost: starting org.apache.spark.deploy.worker.Worker, logging to /usr/local/spark/logs/spark-root-org.apache.spark.deploy.worker.Worker-1-sparkc.out\n"
     ]
    }
   ],
   "source": [
    "!/usr/local/spark/sbin/start-all.sh"
   ]
  },
  {
   "cell_type": "code",
   "execution_count": 2,
   "id": "b6c769f6",
   "metadata": {},
   "outputs": [
    {
     "name": "stdout",
     "output_type": "stream",
     "text": [
      "162 NameNode\r\n",
      "740 ResourceManager\r\n",
      "278 DataNode\r\n",
      "502 SecondaryNameNode\r\n",
      "1322 Master\r\n",
      "1419 Worker\r\n",
      "1500 Jps\r\n",
      "863 NodeManager\r\n"
     ]
    }
   ],
   "source": [
    "!jps"
   ]
  },
  {
   "cell_type": "code",
   "execution_count": null,
   "id": "7aeeeaae",
   "metadata": {},
   "outputs": [],
   "source": [
    "try:\n",
    "    spark.stop()\n",
    "    sc.stop()\n",
    "except:\n",
    "    print(\"no sc/spark to stop\")"
   ]
  },
  {
   "cell_type": "code",
   "execution_count": null,
   "id": "ff91f31d",
   "metadata": {},
   "outputs": [],
   "source": [
    "conf = pyspark.SparkConf().setAppName('LearningSpark').setMaster(\"spark://sparkc:7077\")\n",
    "sc = pyspark.SparkContext(conf = conf)\n",
    "spark = SparkSession(sc)"
   ]
  },
  {
   "cell_type": "code",
   "execution_count": null,
   "id": "6e8354d3",
   "metadata": {},
   "outputs": [],
   "source": [
    "spark"
   ]
  }
 ],
 "metadata": {
  "kernelspec": {
   "display_name": "Python 3 (ipykernel)",
   "language": "python",
   "name": "python3"
  },
  "language_info": {
   "codemirror_mode": {
    "name": "ipython",
    "version": 3
   },
   "file_extension": ".py",
   "mimetype": "text/x-python",
   "name": "python",
   "nbconvert_exporter": "python",
   "pygments_lexer": "ipython3",
   "version": "3.9.2"
  },
  "toc-autonumbering": false,
  "toc-showcode": false,
  "toc-showmarkdowntxt": false,
  "toc-showtags": true
 },
 "nbformat": 4,
 "nbformat_minor": 5
}
