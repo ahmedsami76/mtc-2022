{
 "cells": [
  {
   "cell_type": "markdown",
   "id": "bea8895e-4160-42bd-b5a8-0ba5da2ae9da",
   "metadata": {},
   "source": [
    "## Connect to CSV data using Python"
   ]
  },
  {
   "cell_type": "code",
   "execution_count": null,
   "id": "e226c3bf-1d8c-4e4b-a70a-59503f67b50c",
   "metadata": {},
   "outputs": [],
   "source": [
    "#!pip install pyarrow"
   ]
  },
  {
   "cell_type": "code",
   "execution_count": null,
   "id": "02eaf7c9-72ae-4816-8808-f8ab8076e458",
   "metadata": {},
   "outputs": [],
   "source": [
    "import pandas as pd\n",
    "import os"
   ]
  },
  {
   "cell_type": "code",
   "execution_count": null,
   "id": "bbd41389-9201-4ab0-ae71-c8f3a393e98b",
   "metadata": {},
   "outputs": [],
   "source": [
    "import pandas as pd\n",
    "df = pd.read_csv('file:///data/retail-data/all/online-retail-dataset.csv')"
   ]
  },
  {
   "cell_type": "markdown",
   "id": "738e7072-db92-4849-818e-7cfbe188a9e9",
   "metadata": {},
   "source": [
    "## Explore CSV data using Python"
   ]
  },
  {
   "cell_type": "code",
   "execution_count": null,
   "id": "72ed4661-6625-43e2-8aed-c4a9f7a61ff3",
   "metadata": {},
   "outputs": [],
   "source": [
    "df.head()"
   ]
  },
  {
   "cell_type": "code",
   "execution_count": null,
   "id": "d7eef3a9-dc15-4552-9eaf-6f9c0c989163",
   "metadata": {},
   "outputs": [],
   "source": [
    "df.groupby(['CustomerID']).sum()"
   ]
  },
  {
   "cell_type": "code",
   "execution_count": null,
   "id": "ca8fef69-8520-44d9-b716-93d664d927eb",
   "metadata": {},
   "outputs": [],
   "source": [
    "df.groupby(['CustomerID']).sum().query(\"CustomerID == 17850.0\")"
   ]
  },
  {
   "cell_type": "markdown",
   "id": "9504d58f-846e-438b-98bb-ec2204dd6411",
   "metadata": {},
   "source": [
    "## Convert CSV to Parquet"
   ]
  },
  {
   "cell_type": "code",
   "execution_count": null,
   "id": "3ca7625b-bc0f-48a2-bbfe-459e6b906194",
   "metadata": {},
   "outputs": [],
   "source": [
    "df.to_parquet('/data/output/retail.parquet')"
   ]
  },
  {
   "cell_type": "code",
   "execution_count": null,
   "id": "35728d95-3d00-4c84-8ebf-3e497c9080cf",
   "metadata": {},
   "outputs": [],
   "source": [
    "!hdfs dfs -ls hdfs://localhost:9000/"
   ]
  },
  {
   "cell_type": "markdown",
   "id": "aa7d9201-22c3-40b7-8599-e27441a37610",
   "metadata": {},
   "source": [
    "## Move to HDFS"
   ]
  },
  {
   "cell_type": "code",
   "execution_count": null,
   "id": "a6a209e1-36fe-43b0-a1ba-fa66ad40a8cd",
   "metadata": {},
   "outputs": [],
   "source": [
    "os.system('hdfs dfs -rmdir --ignore-fail-on-non-empty hdfs://localhost:9000/python-spoke')"
   ]
  },
  {
   "cell_type": "code",
   "execution_count": null,
   "id": "62996c0f-4a30-4f22-b647-b38c439cb802",
   "metadata": {},
   "outputs": [],
   "source": [
    "os.system('hdfs dfs -mkdir hdfs://localhost:9000/python-spoke/')"
   ]
  },
  {
   "cell_type": "code",
   "execution_count": null,
   "id": "7dd73e2a-a36c-4a33-83c9-18c937a0b4a5",
   "metadata": {},
   "outputs": [],
   "source": [
    "os.system('hdfs dfs -copyFromLocal /data/output/retail.parquet hdfs://localhost:9000/python-spoke/retail.parquet')"
   ]
  },
  {
   "cell_type": "code",
   "execution_count": null,
   "id": "bedcb507-dedd-4580-ac53-c86a05f52d17",
   "metadata": {},
   "outputs": [],
   "source": [
    "os.system('rm /data/output/retail.parquet')"
   ]
  },
  {
   "cell_type": "code",
   "execution_count": null,
   "id": "c65d2848-6813-47ca-990c-99eea7097837",
   "metadata": {},
   "outputs": [],
   "source": []
  }
 ],
 "metadata": {
  "kernelspec": {
   "display_name": "Python 3 (ipykernel)",
   "language": "python",
   "name": "python3"
  },
  "language_info": {
   "codemirror_mode": {
    "name": "ipython",
    "version": 3
   },
   "file_extension": ".py",
   "mimetype": "text/x-python",
   "name": "python",
   "nbconvert_exporter": "python",
   "pygments_lexer": "ipython3",
   "version": "3.9.2"
  }
 },
 "nbformat": 4,
 "nbformat_minor": 5
}
