{
 "cells": [
  {
   "cell_type": "markdown",
   "id": "3b928812-b656-43ea-9bc9-5ea0aeb6f1cf",
   "metadata": {},
   "source": [
    "## Connect to Spark standalone cluster"
   ]
  },
  {
   "cell_type": "code",
   "execution_count": null,
   "id": "a26556d9-3bbe-453d-89ee-deaa0ac96ebc",
   "metadata": {},
   "outputs": [],
   "source": [
    "try:\n",
    "    spark.stop()\n",
    "except:\n",
    "    print(\"No Spark Session\")"
   ]
  },
  {
   "cell_type": "code",
   "execution_count": null,
   "id": "786e0e64-f1a1-4e28-ac2b-aaef42010c7f",
   "metadata": {},
   "outputs": [],
   "source": [
    "import pyspark\n",
    "import pymssql\n",
    "import pandas as pd\n",
    "from pyspark import SparkContext, SparkConf, pandas as ps\n",
    "from pyspark.sql import SparkSession\n"
   ]
  },
  {
   "cell_type": "code",
   "execution_count": null,
   "id": "b07ee9e2",
   "metadata": {},
   "outputs": [],
   "source": [
    "!/usr/local/spark/sbin/stop-all.sh"
   ]
  },
  {
   "cell_type": "code",
   "execution_count": null,
   "id": "9de07cc8-3ca8-494f-9850-735c7f80a408",
   "metadata": {},
   "outputs": [],
   "source": [
    "!/usr/local/spark/sbin/start-all.sh"
   ]
  },
  {
   "cell_type": "code",
   "execution_count": null,
   "id": "d315b3ae-2ffd-4831-ba1f-2591e0b1f99f",
   "metadata": {},
   "outputs": [],
   "source": [
    "!jps"
   ]
  },
  {
   "cell_type": "code",
   "execution_count": null,
   "id": "15e1c784-fcfe-449e-bfbd-1d1df338f9d6",
   "metadata": {
    "tags": []
   },
   "outputs": [],
   "source": [
    "spark = SparkSession.builder \\\n",
    "        .appName(\"Southbridge Analytics\") \\\n",
    "        .master(\"spark://sparkc:7077\") \\\n",
    "        .getOrCreate()"
   ]
  },
  {
   "cell_type": "markdown",
   "id": "17d8c61d-1f05-4d7b-a331-a17f3a3a7c72",
   "metadata": {},
   "source": [
    "## Connect to SQL Server"
   ]
  },
  {
   "cell_type": "code",
   "execution_count": null,
   "id": "31067569-7fb3-48f5-a5a2-e78d9efd633c",
   "metadata": {},
   "outputs": [],
   "source": [
    "server = 'sql'\n",
    "user = 'sa'\n",
    "password = 'P@ssw0rd'\n",
    "database = 'adworks'\n",
    "\n",
    "conn = pymssql.connect(server, user, password, database)  \n",
    "\n",
    "sql1 = \"\"\"\n",
    "SELECT c.CustomerID, c.CompanyName,COUNT(soh.SalesOrderID) AS OrderCount \n",
    "FROM SalesLT.Customer AS c LEFT OUTER JOIN SalesLT.SalesOrderHeader AS soh \n",
    "ON c.CustomerID = soh.CustomerID \n",
    "GROUP BY c.CustomerID, c.CompanyName \n",
    "ORDER BY OrderCount DESC;\n",
    "\"\"\"\n",
    "\n",
    "sql2 = \"\"\"\n",
    "SELECT c.CompanyName, a.AddressLine1, ISNULL(a.AddressLine2, '') AS AddressLine2,\n",
    "a.City, a.StateProvince, a.PostalCode, a.CountryRegion, oh.SalesOrderID, oh.TotalDue\n",
    "FROM SalesLT.Customer AS c\n",
    "JOIN SalesLT.SalesOrderHeader AS oh\n",
    "ON oh.CustomerID = c.CustomerID\n",
    "JOIN SalesLT.CustomerAddress AS ca\n",
    "ON c.CustomerID = ca.CustomerID AND AddressType = 'Main Office'\n",
    "JOIN SalesLT.Address AS a\n",
    "ON ca.AddressID = a.AddressID;\n",
    "\"\"\"\n",
    "\n"
   ]
  },
  {
   "cell_type": "markdown",
   "id": "71f03074-13f4-4a26-a0b4-f6d0b618d630",
   "metadata": {},
   "source": [
    "## Query SQL and convert to DataFrame"
   ]
  },
  {
   "cell_type": "code",
   "execution_count": null,
   "id": "18998d19-58e5-4f72-ac06-002c6ae0487d",
   "metadata": {},
   "outputs": [],
   "source": [
    "# convert to DF\n",
    "df1 = pd.read_sql(sql1, conn)\n",
    "df2 = pd.read_sql(sql2, conn)\n",
    "\n",
    "spdf1 = spark.createDataFrame(df1)\n",
    "spdf2 = spark.createDataFrame(df2)\n",
    "\n",
    "spdf1.show(5)\n",
    "spdf2.show(5)"
   ]
  },
  {
   "cell_type": "markdown",
   "id": "435859cb-9f7b-4ea8-99ea-be04792aabb3",
   "metadata": {},
   "source": [
    "## Write DataFrame to HDFS as Parquet"
   ]
  },
  {
   "cell_type": "code",
   "execution_count": null,
   "id": "20a6ee95-6e18-47a2-8063-a777e8d9fb68",
   "metadata": {},
   "outputs": [],
   "source": [
    "import os\n",
    "# create dir in hdfs if not already there\n",
    "os.system('hdfs dfs -mkdir hdfs://localhost:9000/sql-spoke/')"
   ]
  },
  {
   "cell_type": "code",
   "execution_count": null,
   "id": "90f5aa58-cfbb-4ed8-a469-d7d13f153575",
   "metadata": {},
   "outputs": [],
   "source": [
    "spdf1.write.parquet(\"hdfs://localhost:9000/sql-spoke/sql1.parquet\")\n",
    "spdf2.write.parquet(\"hdfs://localhost:9000/sql-spoke/sql2.parquet\")"
   ]
  },
  {
   "cell_type": "code",
   "execution_count": null,
   "id": "7fbc4611-70d7-42ed-a3ba-db8bb2bbb48e",
   "metadata": {},
   "outputs": [],
   "source": []
  },
  {
   "cell_type": "code",
   "execution_count": null,
   "id": "3a47dab0-2581-4083-99c1-0e43d2df6aca",
   "metadata": {},
   "outputs": [],
   "source": [
    "testdf1 = spark.read.parquet(\"hdfs://localhost:9000/sql-spoke/sql1.parquet\")\n",
    "testdf2 = spark.read.parquet(\"hdfs://localhost:9000/sql-spoke/sql2.parquet\")"
   ]
  },
  {
   "cell_type": "code",
   "execution_count": null,
   "id": "b8ff6be6-66c1-4a2a-af8c-0dc010ef0a0a",
   "metadata": {},
   "outputs": [],
   "source": [
    "testdf1.show(2)\n",
    "testdf2.show(2)"
   ]
  },
  {
   "cell_type": "code",
   "execution_count": null,
   "id": "ac3b1c91-07a7-4e03-a1d8-c27a459eef3f",
   "metadata": {},
   "outputs": [],
   "source": [
    "spark.stop()"
   ]
  },
  {
   "cell_type": "code",
   "execution_count": null,
   "id": "72ab1450-ba07-4636-95b5-9ca2698e3ade",
   "metadata": {},
   "outputs": [],
   "source": []
  },
  {
   "cell_type": "code",
   "execution_count": 1,
   "id": "aa4faba2-0a3b-450f-83b3-4302393262b9",
   "metadata": {},
   "outputs": [
    {
     "name": "stderr",
     "output_type": "stream",
     "text": [
      "WARNING:root:'PYARROW_IGNORE_TIMEZONE' environment variable was not set. It is required to set this environment variable to '1' in both driver and executor sides if you use pyarrow>=2.0.0. pandas-on-Spark will set it for you but it does not work if there is a Spark context already launched.\n"
     ]
    },
    {
     "name": "stdout",
     "output_type": "stream",
     "text": [
      "No Spark Session\n",
      "22/08/10 19:56:40 WARN NativeCodeLoader: Unable to load native-hadoop library for your platform... using builtin-java classes where applicable\n"
     ]
    },
    {
     "name": "stderr",
     "output_type": "stream",
     "text": [
      "Setting default log level to \"WARN\".\n",
      "To adjust logging level use sc.setLogLevel(newLevel). For SparkR, use setLogLevel(newLevel).\n"
     ]
    }
   ],
   "source": [
    "import os\n",
    "import pyspark\n",
    "import pymssql\n",
    "import pandas as pd\n",
    "from pyspark import SparkContext, SparkConf, pandas as ps\n",
    "from pyspark.sql import SparkSession\n",
    "\n",
    "try:\n",
    "    spark.stop()\n",
    "except:\n",
    "    print(\"No Spark Session\")\n",
    "\n",
    "sparkClassPath =  '/usr/local/spark/jars/sqljdbc42.jar'\n",
    "\n",
    "spark = SparkSession.builder \\\n",
    "        .config(\"spark.driver.extraClassPath\", sparkClassPath) \\\n",
    "        .config(\"spark.jars\", sparkClassPath) \\\n",
    "        .appName(\"Southbridge Analytics\") \\\n",
    "        .master(\"local\") \\\n",
    "        .getOrCreate()\n",
    "\n"
   ]
  },
  {
   "cell_type": "code",
   "execution_count": 3,
   "id": "0c592d16-fbf1-4b0d-a3ac-daf62b0e3c6f",
   "metadata": {},
   "outputs": [],
   "source": [
    "server = \"sql\"\n",
    "database = \"adworks\"\n",
    "table = \"SalesLT.Customer\"\n",
    "user = \"sa\"\n",
    "password  = \"P@ssw0rd\"\n",
    " \n",
    "#read table data into a spark dataframe\n",
    "jdbcDF = spark.read.format(\"jdbc\") \\\n",
    "    .option(\"url\", f\"jdbc:sqlserver://{server}:1433;databaseName={database};\") \\\n",
    "    .option(\"dbtable\", table) \\\n",
    "    .option(\"user\", user) \\\n",
    "    .option(\"password\", password) \\\n",
    "    .option(\"driver\", \"com.microsoft.sqlserver.jdbc.SQLServerDriver\") \\\n",
    "    .load()\n"
   ]
  },
  {
   "cell_type": "code",
   "execution_count": 4,
   "id": "af9ca227-bc6b-4cdc-bc3c-55b1d3993df1",
   "metadata": {},
   "outputs": [
    {
     "name": "stdout",
     "output_type": "stream",
     "text": [
      "+----------+---------+-----+-----------+----------+----------+------+--------------------+--------------------+--------------------+-------------------+--------------------+------------+--------------------+-------------------+\n",
      "|CustomerID|NameStyle|Title|  FirstName|MiddleName|  LastName|Suffix|         CompanyName|         SalesPerson|        EmailAddress|              Phone|        PasswordHash|PasswordSalt|             rowguid|       ModifiedDate|\n",
      "+----------+---------+-----+-----------+----------+----------+------+--------------------+--------------------+--------------------+-------------------+--------------------+------------+--------------------+-------------------+\n",
      "|         1|    false|  Mr.|    Orlando|        N.|       Gee|  null|        A Bike Store|adventure-works\\p...|orlando0@adventur...|       245-555-0173|L/Rlwxzp4w7RWmEgX...|    1KjXYs4=|3F5AE95E-B87D-4AE...|2005-08-01 00:00:00|\n",
      "|         2|    false|  Mr.|      Keith|      null|    Harris|  null|  Progressive Sports|adventure-works\\d...|keith0@adventure-...|       170-555-0127|YPdtRdvqeAhj6wyxE...|    fs1ZGhY=|E552F657-A9AF-4A7...|2006-08-01 00:00:00|\n",
      "|         3|    false|  Ms.|      Donna|        F.|  Carreras|  null|Advanced Bike Com...|adventure-works\\j...|donna0@adventure-...|       279-555-0130|LNoK27abGQo48gGue...|    YTNH5Rw=|130774B1-DB21-4EF...|2005-09-01 00:00:00|\n",
      "|         4|    false|  Ms.|      Janet|        M.|     Gates|  null|Modular Cycle Sys...|adventure-works\\j...|janet1@adventure-...|       710-555-0173|ElzTpSNbUW1Ut+L5c...|    nm7D5e4=|FF862851-1DAA-404...|2006-07-01 00:00:00|\n",
      "|         5|    false|  Mr.|       Lucy|      null|Harrington|  null|Metropolitan Spor...|adventure-works\\shu0|lucy0@adventure-w...|       828-555-0186|KJqV15wsX3PG8TS5G...|    cNFKU4w=|83905BDC-6F5E-4F7...|2006-09-01 00:00:00|\n",
      "|         6|    false|  Ms.|   Rosmarie|        J.|   Carroll|  null|Aerobic Exercise ...|adventure-works\\l...|rosmarie0@adventu...|       244-555-0112|OKT0scizCdIzymHHO...|    ihWf50M=|1A92DF88-BFA2-467...|2007-09-01 00:00:00|\n",
      "|         7|    false|  Mr.|    Dominic|        P.|      Gash|  null|    Associated Bikes|adventure-works\\shu0|dominic0@adventur...|       192-555-0173|ZccoP/jZGQm+Xpzc7...|    sPoUBSQ=|03E9273E-B193-448...|2006-07-01 00:00:00|\n",
      "|        10|    false|  Ms.|   Kathleen|        M.|     Garza|  null|Rural Cycle Emporium|adventure-works\\j...|kathleen0@adventu...|       150-555-0127|Qa3aMCxNbVLGrc0b9...|    Ls05W3g=|CDB6698D-2FF1-4FB...|2006-09-01 00:00:00|\n",
      "|        11|    false|  Ms.|  Katherine|      null|   Harding|  null|         Sharp Bikes|adventure-works\\j...|katherine0@advent...|       926-555-0159|uRlorVzDGNJIX9I+e...|    jpHKbqE=|750F3495-59C4-48A...|2005-08-01 00:00:00|\n",
      "|        12|    false|  Mr.|     Johnny|        A.|    Caprio|   Jr.|Bikes and Motorbikes|adventure-works\\g...|johnny0@adventure...|       112-555-0191|jtF9jBoFYeJTaET7x...|    wVLnvHo=|947BCAF1-1F32-44F...|2006-08-01 00:00:00|\n",
      "|        16|    false|  Mr.|Christopher|        R.|      Beck|   Jr.| Bulk Discount Store|adventure-works\\jae0|christopher1@adve...|1 (11) 500 555-0132|sKt9daCzEEKWAzivE...|    8KfYx/4=|C9381589-D31C-4EF...|2006-09-01 00:00:00|\n",
      "|        18|    false|  Mr.|      David|        J.|       Liu|  null|       Catalog Store|adventure-works\\m...|david20@adventure...|       440-555-0132|61zeTkO+eI5g8GG0s...|    c7Ttvv0=|C04D6B4D-94C6-4C5...|2005-08-01 00:00:00|\n",
      "|        19|    false|  Mr.|       John|        A.|    Beaver|  null|   Center Cycle Shop|adventure-works\\p...|john8@adventure-w...|       521-555-0195|DzbqWX7B3EK5Dub92...|    zXNgrJw=|69AE5D43-31BE-4B7...|2007-04-01 00:00:00|\n",
      "|        20|    false|  Ms.|       Jean|        P.|   Handley|  null|Central Discount ...|adventure-works\\d...|jean1@adventure-w...|       582-555-0113|o1GVo3vExeNzo0/ct...|    uMsvfdo=|E010C10A-F1C3-4BB...|2005-09-01 00:00:00|\n",
      "|        21|    false| null|    Jinghao|      null|       Liu|  null|Chic Department S...|adventure-works\\j...|jinghao1@adventur...|       928-555-0116|IaD5AeqK9mRiIrJi/...|    p6pOqKc=|564E0B42-4609-43D...|2006-09-01 00:00:00|\n",
      "|        22|    false|  Ms.|      Linda|        E.|   Burnett|  null|      Travel Systems|adventure-works\\j...|linda4@adventure-...|       121-555-0121|23AwhujCoXYSPiN/B...|    SmyIPjE=|9774AED6-D673-412...|2005-08-01 00:00:00|\n",
      "|        23|    false|  Mr.|      Kerim|      null|     Hanif|  null|          Bike World|adventure-works\\shu0|kerim0@adventure-...|       216-555-0122|d0WSjosAd7Y3XOWjN...|    33g5co8=|733F8250-3251-4C2...|2006-09-01 00:00:00|\n",
      "|        24|    false|  Mr.|      Kevin|      null|       Liu|  null|Eastside Departme...|adventure-works\\l...|kevin5@adventure-...|       926-555-0164|ylTpkIOHKLcjihNjS...|    TgZnUOg=|C111E51D-178D-4DB...|2006-09-01 00:00:00|\n",
      "|        25|    false|  Mr.|     Donald|        L.|   Blanton|  null|Coalition Bike Co...|adventure-works\\shu0|donald0@adventure...|       357-555-0161|pKYDelLBOZMO98GBz...|    jKtOaOw=|31D03546-FB2A-448...|2006-09-01 00:00:00|\n",
      "|        28|    false|  Ms.|     Jackie|        E.| Blackwell|  null|Commuter Bicycle ...|adventure-works\\j...|jackie0@adventure...|       972-555-0163|wqhgKfOTfef4Zo3cb...|    SZ+r60o=|9B8A04A4-D909-4F4...|2007-08-01 00:00:00|\n",
      "+----------+---------+-----+-----------+----------+----------+------+--------------------+--------------------+--------------------+-------------------+--------------------+------------+--------------------+-------------------+\n",
      "only showing top 20 rows\n",
      "\n"
     ]
    }
   ],
   "source": [
    "jdbcDF.show()"
   ]
  },
  {
   "cell_type": "code",
   "execution_count": null,
   "id": "8cb5f7a4-1d0f-4624-9d64-dce8a6dc2837",
   "metadata": {},
   "outputs": [],
   "source": []
  }
 ],
 "metadata": {
  "kernelspec": {
   "display_name": "Python 3 (ipykernel)",
   "language": "python",
   "name": "python3"
  },
  "language_info": {
   "codemirror_mode": {
    "name": "ipython",
    "version": 3
   },
   "file_extension": ".py",
   "mimetype": "text/x-python",
   "name": "python",
   "nbconvert_exporter": "python",
   "pygments_lexer": "ipython3",
   "version": "3.9.2"
  }
 },
 "nbformat": 4,
 "nbformat_minor": 5
}
