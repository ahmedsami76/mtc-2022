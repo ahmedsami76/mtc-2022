{
 "cells": [
  {
   "cell_type": "markdown",
   "id": "1ff4b9dd",
   "metadata": {},
   "source": [
    "## Connect to Spark standalone cluster"
   ]
  },
  {
   "cell_type": "code",
   "execution_count": 2,
   "id": "6cbe2e87",
   "metadata": {},
   "outputs": [
    {
     "name": "stdout",
     "output_type": "stream",
     "text": [
      "localhost: stopping org.apache.spark.deploy.worker.Worker\n",
      "stopping org.apache.spark.deploy.master.Master\n",
      "starting org.apache.spark.deploy.master.Master, logging to /usr/local/spark/logs/spark--org.apache.spark.deploy.master.Master-1-sparkc.out\n",
      "localhost: starting org.apache.spark.deploy.worker.Worker, logging to /usr/local/spark/logs/spark-root-org.apache.spark.deploy.worker.Worker-1-sparkc.out\n",
      "162 NameNode\n",
      "867 NodeManager\n",
      "5027 Master\n",
      "740 ResourceManager\n",
      "502 SecondaryNameNode\n",
      "311 DataNode\n",
      "5131 Worker\n",
      "5212 Jps\n",
      "3948 SparkSubmit\n",
      "no sc/spark to stop\n"
     ]
    },
    {
     "name": "stderr",
     "output_type": "stream",
     "text": [
      "Setting default log level to \"WARN\".\n",
      "To adjust logging level use sc.setLogLevel(newLevel). For SparkR, use setLogLevel(newLevel).\n"
     ]
    },
    {
     "name": "stdout",
     "output_type": "stream",
     "text": [
      "22/07/29 03:30:54 WARN NativeCodeLoader: Unable to load native-hadoop library for your platform... using builtin-java classes where applicable\n",
      "22/07/29 03:30:55 WARN Utils: Service 'SparkUI' could not bind on port 4040. Attempting port 4041.\n"
     ]
    }
   ],
   "source": [
    "%run 0.connect-to-spark-cluster.ipynb"
   ]
  },
  {
   "cell_type": "code",
   "execution_count": 3,
   "id": "dd16876e",
   "metadata": {},
   "outputs": [
    {
     "data": {
      "text/html": [
       "\n",
       "            <div>\n",
       "                <p><b>SparkSession - in-memory</b></p>\n",
       "                \n",
       "        <div>\n",
       "            <p><b>SparkContext</b></p>\n",
       "\n",
       "            <p><a href=\"http://sparkc:4041\">Spark UI</a></p>\n",
       "\n",
       "            <dl>\n",
       "              <dt>Version</dt>\n",
       "                <dd><code>v3.3.0</code></dd>\n",
       "              <dt>Master</dt>\n",
       "                <dd><code>spark://sparkc:7077</code></dd>\n",
       "              <dt>AppName</dt>\n",
       "                <dd><code>LearningSpark</code></dd>\n",
       "            </dl>\n",
       "        </div>\n",
       "        \n",
       "            </div>\n",
       "        "
      ],
      "text/plain": [
       "<pyspark.sql.session.SparkSession at 0x7fa01810bfa0>"
      ]
     },
     "execution_count": 3,
     "metadata": {},
     "output_type": "execute_result"
    }
   ],
   "source": [
    "spark"
   ]
  },
  {
   "cell_type": "markdown",
   "id": "5da7cd5e",
   "metadata": {},
   "source": [
    "## RDDs"
   ]
  },
  {
   "cell_type": "code",
   "execution_count": 4,
   "id": "f50c9d27",
   "metadata": {},
   "outputs": [],
   "source": [
    "data = [1, 2, 3, 4, 5]\n",
    "data_rdd = sc.parallelize(data)"
   ]
  },
  {
   "cell_type": "code",
   "execution_count": 5,
   "id": "fb69b736",
   "metadata": {},
   "outputs": [
    {
     "data": {
      "text/plain": [
       "pyspark.rdd.RDD"
      ]
     },
     "execution_count": 5,
     "metadata": {},
     "output_type": "execute_result"
    }
   ],
   "source": [
    "type(data_rdd)"
   ]
  },
  {
   "cell_type": "code",
   "execution_count": 6,
   "id": "15d2333d",
   "metadata": {},
   "outputs": [
    {
     "name": "stderr",
     "output_type": "stream",
     "text": [
      "                                                                                \r"
     ]
    },
    {
     "data": {
      "text/plain": [
       "[2, 4, 6, 8, 10]"
      ]
     },
     "execution_count": 6,
     "metadata": {},
     "output_type": "execute_result"
    }
   ],
   "source": [
    "dbl_distData = data_rdd.map(lambda x: x*2)\n",
    "dbl_distData.collect()"
   ]
  },
  {
   "cell_type": "markdown",
   "id": "70f1778b",
   "metadata": {},
   "source": []
  },
  {
   "cell_type": "code",
   "execution_count": null,
   "id": "b53fc662",
   "metadata": {},
   "outputs": [],
   "source": [
    "from datetime import datetime, date\n",
    "from pyspark.sql import Row\n",
    "\n",
    "rows = [\n",
    "    Row(a=1, b=2., c='string1', d=date(2000, 1, 1), e=datetime(2000, 1, 1, 12, 0)),\n",
    "    Row(a=2, b=3., c='string2', d=date(2000, 2, 1), e=datetime(2000, 1, 2, 12, 0)),\n",
    "    Row(a=4, b=5., c='string3', d=date(2000, 3, 1), e=datetime(2000, 1, 3, 12, 0))\n",
    "]\n",
    "\n",
    "rows_rdd = sc.parallelize(rows)\n"
   ]
  },
  {
   "cell_type": "code",
   "execution_count": null,
   "id": "35226704",
   "metadata": {},
   "outputs": [],
   "source": [
    "type(rows_rdd)"
   ]
  },
  {
   "cell_type": "markdown",
   "id": "9dcc83c5",
   "metadata": {},
   "source": []
  },
  {
   "cell_type": "code",
   "execution_count": null,
   "id": "95058a08",
   "metadata": {},
   "outputs": [],
   "source": [
    "range_rdd = sc.parallelize(range(6))"
   ]
  },
  {
   "cell_type": "code",
   "execution_count": null,
   "id": "3c0720f7",
   "metadata": {},
   "outputs": [],
   "source": [
    "type(range_rdd)"
   ]
  },
  {
   "cell_type": "code",
   "execution_count": null,
   "id": "8b1b4fa5",
   "metadata": {},
   "outputs": [],
   "source": [
    "cube_range_rdd = range_rdd.map(lambda x: x*3)\n",
    "cube_range_rdd.collect()"
   ]
  },
  {
   "cell_type": "code",
   "execution_count": null,
   "id": "41f69dc9",
   "metadata": {},
   "outputs": [],
   "source": [
    "type(rows_rdd)"
   ]
  },
  {
   "cell_type": "markdown",
   "id": "21d0ffb8",
   "metadata": {},
   "source": [
    "## DataFrame"
   ]
  },
  {
   "cell_type": "markdown",
   "id": "ba7952f5",
   "metadata": {},
   "source": [
    "### Infer schema"
   ]
  },
  {
   "cell_type": "code",
   "execution_count": null,
   "id": "e7a79db5",
   "metadata": {},
   "outputs": [],
   "source": [
    "print(rows)\n",
    "print(type(rows))"
   ]
  },
  {
   "cell_type": "code",
   "execution_count": null,
   "id": "4bb931e4",
   "metadata": {},
   "outputs": [],
   "source": [
    "print(rows_rdd)\n",
    "print(type(rows_rdd))"
   ]
  },
  {
   "cell_type": "code",
   "execution_count": null,
   "id": "79c2c618",
   "metadata": {},
   "outputs": [],
   "source": [
    "rows_df = spark.createDataFrame(rows)"
   ]
  },
  {
   "cell_type": "code",
   "execution_count": null,
   "id": "a5ad2da4",
   "metadata": {},
   "outputs": [],
   "source": [
    "rows_rdd_df = spark.createDataFrame(rows_rdd)"
   ]
  },
  {
   "cell_type": "code",
   "execution_count": null,
   "id": "def553fc",
   "metadata": {},
   "outputs": [],
   "source": [
    "print(rows_df)\n",
    "print(type(rows_df))"
   ]
  },
  {
   "cell_type": "code",
   "execution_count": null,
   "id": "35412ff2",
   "metadata": {},
   "outputs": [],
   "source": [
    "print(rows_rdd_df)\n",
    "print(type(rows_rdd_df))"
   ]
  },
  {
   "cell_type": "code",
   "execution_count": null,
   "id": "5a068e7a",
   "metadata": {},
   "outputs": [],
   "source": [
    "data"
   ]
  },
  {
   "cell_type": "code",
   "execution_count": null,
   "id": "a5896319",
   "metadata": {},
   "outputs": [],
   "source": [
    "data_df = spark.createDataFrame(data_rdd)"
   ]
  },
  {
   "cell_type": "code",
   "execution_count": null,
   "id": "01541927",
   "metadata": {},
   "outputs": [],
   "source": []
  },
  {
   "cell_type": "markdown",
   "id": "267f833d",
   "metadata": {},
   "source": [
    "### Explicit schema"
   ]
  },
  {
   "cell_type": "code",
   "execution_count": 5,
   "id": "6a64b610",
   "metadata": {},
   "outputs": [
    {
     "data": {
      "text/plain": [
       "DataFrame[a: bigint, b: double, c: string, d: date, e: timestamp]"
      ]
     },
     "execution_count": 5,
     "metadata": {},
     "output_type": "execute_result"
    }
   ],
   "source": [
    "from datetime import datetime, date\n",
    "\n",
    "rdd = spark.sparkContext.parallelize([\n",
    "    (1, 2., 'string1', date(2000, 1, 1), datetime(2000, 1, 1, 12, 0)),\n",
    "    (2, 3., 'string2', date(2000, 2, 1), datetime(2000, 1, 2, 12, 0)),\n",
    "    (3, 4., 'string3', date(2000, 3, 1), datetime(2000, 1, 3, 12, 0))\n",
    "])\n",
    "df = spark.createDataFrame(rdd, schema=['a', 'b', 'c', 'd', 'e'])\n",
    "df"
   ]
  },
  {
   "cell_type": "code",
   "execution_count": 6,
   "id": "24340599",
   "metadata": {
    "scrolled": true
   },
   "outputs": [
    {
     "name": "stdout",
     "output_type": "stream",
     "text": [
      "+---+---+-------+----------+-------------------+\n",
      "|  a|  b|      c|         d|                  e|\n",
      "+---+---+-------+----------+-------------------+\n",
      "|  1|2.0|string1|2000-01-01|2000-01-01 12:00:00|\n",
      "|  2|3.0|string2|2000-02-01|2000-01-02 12:00:00|\n",
      "|  3|4.0|string3|2000-03-01|2000-01-03 12:00:00|\n",
      "+---+---+-------+----------+-------------------+\n",
      "\n",
      "root\n",
      " |-- a: long (nullable = true)\n",
      " |-- b: double (nullable = true)\n",
      " |-- c: string (nullable = true)\n",
      " |-- d: date (nullable = true)\n",
      " |-- e: timestamp (nullable = true)\n",
      "\n"
     ]
    }
   ],
   "source": [
    "df.show()\n",
    "df.printSchema()"
   ]
  },
  {
   "cell_type": "code",
   "execution_count": 7,
   "id": "9c7ffea3",
   "metadata": {},
   "outputs": [
    {
     "name": "stdout",
     "output_type": "stream",
     "text": [
      "-RECORD 0------------------\n",
      " a   | 1                   \n",
      " b   | 2.0                 \n",
      " c   | string1             \n",
      " d   | 2000-01-01          \n",
      " e   | 2000-01-01 12:00:00 \n",
      "-RECORD 1------------------\n",
      " a   | 2                   \n",
      " b   | 3.0                 \n",
      " c   | string2             \n",
      " d   | 2000-02-01          \n",
      " e   | 2000-01-02 12:00:00 \n",
      "only showing top 2 rows\n",
      "\n"
     ]
    }
   ],
   "source": [
    "df.show(2, vertical=True)"
   ]
  },
  {
   "cell_type": "code",
   "execution_count": null,
   "id": "39456def",
   "metadata": {},
   "outputs": [],
   "source": []
  },
  {
   "cell_type": "markdown",
   "id": "03e1f4a1",
   "metadata": {},
   "source": [
    "### examine dataframe api"
   ]
  },
  {
   "cell_type": "code",
   "execution_count": 8,
   "id": "96d00b58",
   "metadata": {},
   "outputs": [
    {
     "data": {
      "text/plain": [
       "['a', 'b', 'c', 'd', 'e']"
      ]
     },
     "execution_count": 8,
     "metadata": {},
     "output_type": "execute_result"
    }
   ],
   "source": [
    "df.columns"
   ]
  },
  {
   "cell_type": "code",
   "execution_count": 9,
   "id": "fec95472",
   "metadata": {},
   "outputs": [
    {
     "name": "stdout",
     "output_type": "stream",
     "text": [
      "+---+---+-------+----------+-------------------+\n",
      "|  a|  b|      c|         d|                  e|\n",
      "+---+---+-------+----------+-------------------+\n",
      "|  1|2.0|string1|2000-01-01|2000-01-01 12:00:00|\n",
      "|  2|3.0|string2|2000-02-01|2000-01-02 12:00:00|\n",
      "|  3|4.0|string3|2000-03-01|2000-01-03 12:00:00|\n",
      "+---+---+-------+----------+-------------------+\n",
      "\n"
     ]
    }
   ],
   "source": [
    "df.show()"
   ]
  },
  {
   "cell_type": "code",
   "execution_count": 10,
   "id": "ca678ddb",
   "metadata": {},
   "outputs": [
    {
     "data": {
      "text/plain": [
       "[Row(a=1, b=2.0, c='string1', d=datetime.date(2000, 1, 1), e=datetime.datetime(2000, 1, 1, 12, 0)),\n",
       " Row(a=2, b=3.0, c='string2', d=datetime.date(2000, 2, 1), e=datetime.datetime(2000, 1, 2, 12, 0)),\n",
       " Row(a=3, b=4.0, c='string3', d=datetime.date(2000, 3, 1), e=datetime.datetime(2000, 1, 3, 12, 0))]"
      ]
     },
     "execution_count": 10,
     "metadata": {},
     "output_type": "execute_result"
    }
   ],
   "source": [
    "df.collect()"
   ]
  },
  {
   "cell_type": "code",
   "execution_count": 11,
   "id": "914e3e5d",
   "metadata": {},
   "outputs": [
    {
     "name": "stdout",
     "output_type": "stream",
     "text": [
      "== Physical Plan ==\n",
      "*(1) Scan ExistingRDD[a#0L,b#1,c#2,d#3,e#4]\n",
      "\n",
      "\n"
     ]
    }
   ],
   "source": [
    "df.explain()"
   ]
  },
  {
   "cell_type": "code",
   "execution_count": 12,
   "id": "4a19f4dc",
   "metadata": {},
   "outputs": [
    {
     "data": {
      "text/plain": [
       "StructType([StructField('a', LongType(), True), StructField('b', DoubleType(), True), StructField('c', StringType(), True), StructField('d', DateType(), True), StructField('e', TimestampType(), True)])"
      ]
     },
     "execution_count": 12,
     "metadata": {},
     "output_type": "execute_result"
    }
   ],
   "source": [
    "df.schema"
   ]
  },
  {
   "cell_type": "code",
   "execution_count": 13,
   "id": "0c77fc4d",
   "metadata": {},
   "outputs": [
    {
     "name": "stdout",
     "output_type": "stream",
     "text": [
      "root\n",
      " |-- a: long (nullable = true)\n",
      " |-- b: double (nullable = true)\n",
      " |-- c: string (nullable = true)\n",
      " |-- d: date (nullable = true)\n",
      " |-- e: timestamp (nullable = true)\n",
      "\n"
     ]
    }
   ],
   "source": [
    "df.printSchema()"
   ]
  },
  {
   "cell_type": "code",
   "execution_count": 14,
   "id": "bf50c523",
   "metadata": {},
   "outputs": [
    {
     "data": {
      "text/plain": [
       "DataFrame[summary: string, a: string, b: string, c: string]"
      ]
     },
     "execution_count": 14,
     "metadata": {},
     "output_type": "execute_result"
    }
   ],
   "source": [
    "df.summary()"
   ]
  },
  {
   "cell_type": "code",
   "execution_count": 15,
   "id": "51c8ad2f",
   "metadata": {},
   "outputs": [
    {
     "data": {
      "text/plain": [
       "[Row(a=1, b=2.0, c='string1', d=datetime.date(2000, 1, 1), e=datetime.datetime(2000, 1, 1, 12, 0)),\n",
       " Row(a=2, b=3.0, c='string2', d=datetime.date(2000, 2, 1), e=datetime.datetime(2000, 1, 2, 12, 0))]"
      ]
     },
     "execution_count": 15,
     "metadata": {},
     "output_type": "execute_result"
    }
   ],
   "source": [
    "df.take(2)"
   ]
  },
  {
   "cell_type": "code",
   "execution_count": null,
   "id": "cced8dc4",
   "metadata": {},
   "outputs": [],
   "source": []
  },
  {
   "cell_type": "code",
   "execution_count": null,
   "id": "1aa394a6",
   "metadata": {},
   "outputs": [],
   "source": []
  },
  {
   "cell_type": "code",
   "execution_count": null,
   "id": "0534c810",
   "metadata": {},
   "outputs": [],
   "source": []
  },
  {
   "cell_type": "markdown",
   "id": "b7292712",
   "metadata": {},
   "source": [
    "### examine the data"
   ]
  },
  {
   "cell_type": "code",
   "execution_count": null,
   "id": "d2caf0ff",
   "metadata": {},
   "outputs": [],
   "source": [
    "!ls /data"
   ]
  },
  {
   "cell_type": "code",
   "execution_count": null,
   "id": "46176191",
   "metadata": {},
   "outputs": [],
   "source": [
    "!ls /data/flight-data"
   ]
  },
  {
   "cell_type": "code",
   "execution_count": null,
   "id": "27a77321",
   "metadata": {},
   "outputs": [],
   "source": [
    "!ls /data/flight-data/csv/"
   ]
  },
  {
   "cell_type": "code",
   "execution_count": null,
   "id": "519b7ef0",
   "metadata": {},
   "outputs": [],
   "source": [
    "!cat /data/flight-data/csv/2010-summary.csv"
   ]
  },
  {
   "cell_type": "code",
   "execution_count": null,
   "id": "c08f828b",
   "metadata": {},
   "outputs": [],
   "source": [
    "!head /data/flight-data/csv/2010-summary.csv"
   ]
  },
  {
   "cell_type": "markdown",
   "id": "158431a4",
   "metadata": {},
   "source": [
    "### create the dataframe"
   ]
  },
  {
   "cell_type": "code",
   "execution_count": null,
   "id": "22132232",
   "metadata": {},
   "outputs": [],
   "source": [
    "flightDF = spark.read.option(\"header\", \"true\").csv(\"file:///data/flight-data/csv/2010-summary.csv\")"
   ]
  }
 ],
 "metadata": {
  "kernelspec": {
   "display_name": "Python 3 (ipykernel)",
   "language": "python",
   "name": "python3"
  },
  "language_info": {
   "codemirror_mode": {
    "name": "ipython",
    "version": 3
   },
   "file_extension": ".py",
   "mimetype": "text/x-python",
   "name": "python",
   "nbconvert_exporter": "python",
   "pygments_lexer": "ipython3",
   "version": "3.9.2"
  }
 },
 "nbformat": 4,
 "nbformat_minor": 5
}
