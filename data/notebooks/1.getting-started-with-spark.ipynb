{
 "cells": [
  {
   "cell_type": "markdown",
   "id": "3b928812-b656-43ea-9bc9-5ea0aeb6f1cf",
   "metadata": {},
   "source": [
    "## Connect to Spark standalone cluster"
   ]
  },
  {
   "cell_type": "code",
   "execution_count": 5,
   "id": "b07ee9e2",
   "metadata": {},
   "outputs": [
    {
     "name": "stdout",
     "output_type": "stream",
     "text": [
      "localhost: no org.apache.spark.deploy.worker.Worker to stop\n",
      "no org.apache.spark.deploy.master.Master to stop\n",
      "starting org.apache.spark.deploy.master.Master, logging to /usr/local/spark/logs/spark--org.apache.spark.deploy.master.Master-1-sparkc.out\n",
      "localhost: starting org.apache.spark.deploy.worker.Worker, logging to /usr/local/spark/logs/spark-root-org.apache.spark.deploy.worker.Worker-1-sparkc.out\n",
      "2033 Master\n",
      "162 NameNode\n",
      "740 ResourceManager\n",
      "502 SecondaryNameNode\n",
      "2135 Worker\n",
      "311 DataNode\n",
      "2216 Jps\n",
      "991 NodeManager\n",
      "no sc/spark to stop\n"
     ]
    },
    {
     "name": "stderr",
     "output_type": "stream",
     "text": [
      "Setting default log level to \"WARN\".\n",
      "To adjust logging level use sc.setLogLevel(newLevel). For SparkR, use setLogLevel(newLevel).\n"
     ]
    },
    {
     "name": "stdout",
     "output_type": "stream",
     "text": [
      "22/08/08 23:56:10 WARN NativeCodeLoader: Unable to load native-hadoop library for your platform... using builtin-java classes where applicable\n"
     ]
    }
   ],
   "source": [
    "%run 0.connect-to-spark-cluster.ipynb"
   ]
  },
  {
   "cell_type": "code",
   "execution_count": 6,
   "id": "2688d3a9-7a06-4159-9463-f8d1443ec3b1",
   "metadata": {},
   "outputs": [
    {
     "data": {
      "text/html": [
       "\n",
       "            <div>\n",
       "                <p><b>SparkSession - in-memory</b></p>\n",
       "                \n",
       "        <div>\n",
       "            <p><b>SparkContext</b></p>\n",
       "\n",
       "            <p><a href=\"http://sparkc:4040\">Spark UI</a></p>\n",
       "\n",
       "            <dl>\n",
       "              <dt>Version</dt>\n",
       "                <dd><code>v3.3.0</code></dd>\n",
       "              <dt>Master</dt>\n",
       "                <dd><code>spark://sparkc:7077</code></dd>\n",
       "              <dt>AppName</dt>\n",
       "                <dd><code>LearningSpark</code></dd>\n",
       "            </dl>\n",
       "        </div>\n",
       "        \n",
       "            </div>\n",
       "        "
      ],
      "text/plain": [
       "<pyspark.sql.session.SparkSession at 0x7ff4d80c1c70>"
      ]
     },
     "execution_count": 6,
     "metadata": {},
     "output_type": "execute_result"
    }
   ],
   "source": [
    "spark"
   ]
  },
  {
   "cell_type": "markdown",
   "id": "ac3d187e-ca00-46a7-80a5-9ed7a9df4b5b",
   "metadata": {},
   "source": [
    "## Running standalone Python scripts"
   ]
  },
  {
   "cell_type": "code",
   "execution_count": null,
   "id": "f2cb7f53-6c10-4035-8e7e-b4ea46d9a768",
   "metadata": {},
   "outputs": [],
   "source": [
    "!/usr/local/spark/bin/spark-submit /data/SimpleApp.py"
   ]
  },
  {
   "cell_type": "code",
   "execution_count": null,
   "id": "94e50ab0-2ef1-40e2-8c30-4426ff1f7ce8",
   "metadata": {},
   "outputs": [],
   "source": []
  },
  {
   "cell_type": "code",
   "execution_count": null,
   "id": "55a7f1fc-d4af-4c9f-865c-a0b8388b16bd",
   "metadata": {},
   "outputs": [],
   "source": []
  },
  {
   "cell_type": "code",
   "execution_count": null,
   "id": "b8a8c266",
   "metadata": {},
   "outputs": [],
   "source": [
    "!cat /data/flight-data/csv/2010-summary.csv"
   ]
  },
  {
   "cell_type": "code",
   "execution_count": null,
   "id": "eb357417",
   "metadata": {},
   "outputs": [],
   "source": [
    "textFile = spark.read.text(\"file:///data/flight-data/csv/2010-summary.csv\")"
   ]
  },
  {
   "cell_type": "code",
   "execution_count": null,
   "id": "e1c525c1",
   "metadata": {},
   "outputs": [],
   "source": [
    "type(textFile)"
   ]
  },
  {
   "cell_type": "code",
   "execution_count": null,
   "id": "721bed2f",
   "metadata": {},
   "outputs": [],
   "source": [
    "textFile.show(5)"
   ]
  },
  {
   "cell_type": "code",
   "execution_count": null,
   "id": "363c215c",
   "metadata": {},
   "outputs": [],
   "source": [
    "textFile.count()"
   ]
  },
  {
   "cell_type": "code",
   "execution_count": null,
   "id": "2808c19a",
   "metadata": {},
   "outputs": [],
   "source": [
    "textFile.first()"
   ]
  },
  {
   "cell_type": "code",
   "execution_count": null,
   "id": "fc516524",
   "metadata": {},
   "outputs": [],
   "source": [
    "textFile.take(3)"
   ]
  },
  {
   "cell_type": "code",
   "execution_count": null,
   "id": "0feb585b",
   "metadata": {},
   "outputs": [],
   "source": [
    "textFile.columns"
   ]
  },
  {
   "cell_type": "code",
   "execution_count": null,
   "id": "7e6e1ab6",
   "metadata": {},
   "outputs": [],
   "source": [
    "linesWithEgypt = textFile.filter(textFile.value.contains(\"Egypt\"))"
   ]
  },
  {
   "cell_type": "code",
   "execution_count": null,
   "id": "c4015aff",
   "metadata": {},
   "outputs": [],
   "source": [
    "linesWithEgypt.count()"
   ]
  },
  {
   "cell_type": "code",
   "execution_count": null,
   "id": "6e203716",
   "metadata": {},
   "outputs": [],
   "source": []
  }
 ],
 "metadata": {
  "kernelspec": {
   "display_name": "Python 3 (ipykernel)",
   "language": "python",
   "name": "python3"
  },
  "language_info": {
   "codemirror_mode": {
    "name": "ipython",
    "version": 3
   },
   "file_extension": ".py",
   "mimetype": "text/x-python",
   "name": "python",
   "nbconvert_exporter": "python",
   "pygments_lexer": "ipython3",
   "version": "3.9.2"
  }
 },
 "nbformat": 4,
 "nbformat_minor": 5
}
