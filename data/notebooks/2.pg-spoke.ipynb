{
 "cells": [
  {
   "cell_type": "code",
   "execution_count": null,
   "id": "2170189b-0a05-4de9-8dad-6e3c5523730c",
   "metadata": {},
   "outputs": [],
   "source": []
  },
  {
   "cell_type": "code",
   "execution_count": 1,
   "id": "bd0c8aec-f18b-4790-9e30-730a3fad496b",
   "metadata": {},
   "outputs": [
    {
     "name": "stderr",
     "output_type": "stream",
     "text": [
      "WARNING:root:'PYARROW_IGNORE_TIMEZONE' environment variable was not set. It is required to set this environment variable to '1' in both driver and executor sides if you use pyarrow>=2.0.0. pandas-on-Spark will set it for you but it does not work if there is a Spark context already launched.\n"
     ]
    }
   ],
   "source": [
    "import os\n",
    "import pyspark\n",
    "import pymssql\n",
    "import pandas as pd\n",
    "from pyspark import SparkContext, SparkConf, pandas as ps\n",
    "from pyspark.sql import SparkSession\n"
   ]
  },
  {
   "cell_type": "code",
   "execution_count": null,
   "id": "b4623f13-dddd-4bb2-90bb-25cd09b01edf",
   "metadata": {},
   "outputs": [],
   "source": [
    "#sparkClassPath = os.environ['PYSPARK_SUBMIT_ARGS'] = '--packages org.postgresql:postgresql:42.4.1 pyspark-shell'\n"
   ]
  },
  {
   "cell_type": "code",
   "execution_count": 2,
   "id": "68e0a75c-bb70-4700-a4fc-2613ba22d2e1",
   "metadata": {},
   "outputs": [],
   "source": [
    "sparkClassPath =  '/usr/local/spark/jars/postgresql-42.4.1.jar'\n"
   ]
  },
  {
   "cell_type": "code",
   "execution_count": 3,
   "id": "f6a03617-2748-481c-b5e1-c7a1226a646b",
   "metadata": {},
   "outputs": [
    {
     "name": "stdout",
     "output_type": "stream",
     "text": [
      "No Spark Session\n",
      "22/08/10 19:52:01 WARN NativeCodeLoader: Unable to load native-hadoop library for your platform... using builtin-java classes where applicable\n"
     ]
    },
    {
     "name": "stderr",
     "output_type": "stream",
     "text": [
      "Setting default log level to \"WARN\".\n",
      "To adjust logging level use sc.setLogLevel(newLevel). For SparkR, use setLogLevel(newLevel).\n"
     ]
    },
    {
     "name": "stdout",
     "output_type": "stream",
     "text": [
      "22/08/10 19:52:01 WARN Utils: Service 'SparkUI' could not bind on port 4040. Attempting port 4041.\n"
     ]
    }
   ],
   "source": [
    "try:\n",
    "    spark.stop()\n",
    "except:\n",
    "    print(\"No Spark Session\")\n",
    "    \n",
    "spark = SparkSession.builder \\\n",
    "        .config(\"spark.driver.extraClassPath\", sparkClassPath) \\\n",
    "        .config(\"spark.jars\", sparkClassPath) \\\n",
    "        .appName(\"Southbridge Analytics\") \\\n",
    "        .master(\"local\") \\\n",
    "        .getOrCreate()\n"
   ]
  },
  {
   "cell_type": "code",
   "execution_count": 4,
   "id": "b2db6549-3e3d-4c02-a0c6-e39e3282627e",
   "metadata": {},
   "outputs": [],
   "source": [
    "url = \"jdbc:postgresql:pg\"\n",
    "user = \"postgres\"\n",
    "password = \"P@ssw0rd\"\n",
    "table = \"dvdrental.film\"\n",
    "\n",
    "df = spark.read.format(\"jdbc\") \\\n",
    "        .option(\"url\", \"jdbc:postgresql://pg:5432/dvdrental\") \\\n",
    "        .option(\"driver\", \"org.postgresql.Driver\") \\\n",
    "        .option(\"dbtable\", \"film\") \\\n",
    "        .option(\"user\", \"postgres\").option(\"password\", \"P@ssw0rd\").load()\n"
   ]
  },
  {
   "cell_type": "code",
   "execution_count": null,
   "id": "e973dbb4-2be2-459c-8cb7-ea4118cbfd91",
   "metadata": {},
   "outputs": [],
   "source": [
    "df.show()"
   ]
  },
  {
   "cell_type": "code",
   "execution_count": null,
   "id": "b5c9c2c3-7af7-4389-8800-dfb88500e524",
   "metadata": {},
   "outputs": [],
   "source": []
  }
 ],
 "metadata": {
  "kernelspec": {
   "display_name": "Python 3 (ipykernel)",
   "language": "python",
   "name": "python3"
  },
  "language_info": {
   "codemirror_mode": {
    "name": "ipython",
    "version": 3
   },
   "file_extension": ".py",
   "mimetype": "text/x-python",
   "name": "python",
   "nbconvert_exporter": "python",
   "pygments_lexer": "ipython3",
   "version": "3.9.2"
  }
 },
 "nbformat": 4,
 "nbformat_minor": 5
}
